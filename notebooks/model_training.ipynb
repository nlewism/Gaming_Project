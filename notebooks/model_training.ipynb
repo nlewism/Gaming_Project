{
 "cells": [
  {
   "cell_type": "code",
   "execution_count": 26,
   "metadata": {},
   "outputs": [],
   "source": [
    "from sklearn.preprocessing import StandardScaler\n",
    "from scipy.spatial.distance import cdist\n",
    "import pandas as pd\n",
    "import os"
   ]
  },
  {
   "cell_type": "code",
   "execution_count": 48,
   "metadata": {},
   "outputs": [],
   "source": [
    "def small_treatments(df):\n",
    "    \"\"\"\n",
    "    Function to clean column names:\n",
    "    - Convert column names to lowercase\n",
    "    - Replace spaces with underscores\n",
    "    \"\"\"\n",
    "    df.columns = df.columns.str.lower().str.replace(' ', '_')\n",
    "    return df"
   ]
  },
  {
   "cell_type": "markdown",
   "metadata": {},
   "source": [
    "### Raiana's Example"
   ]
  },
  {
   "cell_type": "code",
   "execution_count": null,
   "metadata": {},
   "outputs": [],
   "source": [
    "df = pd.read_csv('/Users/natalielewis/Desktop/Ironhack/Gaming_Project/player_list_1.csv', thousands=',')\n",
    "df_recommender = df[['GENERAL - COMBAT.PVPAccuracy','GENERAL - COMBAT.PVPMeleeKills','GENERAL - COMBAT.PVPBlindKills']]\n",
    "scaler = StandardScaler()\n",
    "xscaled = scaler.fit_transform(df_recommender)\n",
    "to_predict = df_recommender.iloc[[0]]\n",
    "to_predict_scaled = scaler.transform(to_predict)\n",
    "pd.DataFrame(cdist(xscaled,to_predict_scaled),index=df['name'],columns=['Distance']).sort_values('Distance').head()"
   ]
  },
  {
   "cell_type": "markdown",
   "metadata": {},
   "source": [
    "### Model Training example with BF2042 & APEX LEGENDS\n"
   ]
  },
  {
   "cell_type": "code",
   "execution_count": null,
   "metadata": {},
   "outputs": [],
   "source": [
    "hybrid_recommender = apex_bf2042[['Assault','Engineer','Recon','Support','Attacker','Defender','Difficulty_1','Difficulty_2','Difficulty_3']]\n",
    "scaler = StandardScaler()\n",
    "xscaled = scaler.fit_transform(hybrid_recommender)\n",
    "to_predict = hybrid_recommender.iloc[[13]]\n",
    "to_predict_scaled = scaler.transform(to_predict)\n",
    "pd.DataFrame(cdist(xscaled,to_predict_scaled),index=apex_bf2042['name'],columns=['distance']).sort_values('distance').head(10)"
   ]
  },
  {
   "cell_type": "markdown",
   "metadata": {},
   "source": [
    "## Model Training for Player Stats"
   ]
  },
  {
   "cell_type": "markdown",
   "metadata": {},
   "source": [
    "## Note for future Treatment: \n",
    "- Add game name to columns"
   ]
  },
  {
   "cell_type": "code",
   "execution_count": 32,
   "metadata": {},
   "outputs": [],
   "source": [
    "apex_players = pd.read_csv('/Users/natalielewis/Desktop/Ironhack/Gaming_Project/data/cleaned/player_csvs/apex_players_concatenated.csv')\n",
    "bf_players = pd.read_csv('/Users/natalielewis/Desktop/Ironhack/Gaming_Project/data/cleaned/player_csvs/bf_2042_playerstats.csv')\n",
    "overwatch_players = pd.read_csv('/Users/natalielewis/Desktop/Ironhack/Gaming_Project/data/cleaned/player_csvs/overwatch_players_concatenated.csv')\n",
    "r6_players = pd.read_csv('/Users/natalielewis/Desktop/Ironhack/Gaming_Project/data/cleaned/player_csvs/r6_players_concatenated.csv')"
   ]
  },
  {
   "cell_type": "code",
   "execution_count": 53,
   "metadata": {},
   "outputs": [],
   "source": [
    "apex_players = small_treatments(apex_players)\n",
    "bf_players = small_treatments(bf_players)\n",
    "overwatch_players = small_treatments(overwatch_players)\n",
    "r6_players = small_treatments(r6_players)"
   ]
  },
  {
   "cell_type": "markdown",
   "metadata": {},
   "source": [
    "Sam says --\n",
    "- identify games in a column named: Game with the values as rows\n",
    "- concat all player stats\n",
    "- fill nans with 0's\n",
    "- "
   ]
  },
  {
   "cell_type": "code",
   "execution_count": null,
   "metadata": {},
   "outputs": [],
   "source": []
  },
  {
   "cell_type": "code",
   "execution_count": null,
   "metadata": {},
   "outputs": [],
   "source": [
    "df_recommender = df[['GENERAL - COMBAT.PVPAccuracy','GENERAL - COMBAT.PVPMeleeKills','GENERAL - COMBAT.PVPBlindKills']]"
   ]
  }
 ],
 "metadata": {
  "kernelspec": {
   "display_name": "Final-Project",
   "language": "python",
   "name": "python3"
  },
  "language_info": {
   "codemirror_mode": {
    "name": "ipython",
    "version": 3
   },
   "file_extension": ".py",
   "mimetype": "text/x-python",
   "name": "python",
   "nbconvert_exporter": "python",
   "pygments_lexer": "ipython3",
   "version": "3.9.6"
  }
 },
 "nbformat": 4,
 "nbformat_minor": 2
}
